{
 "cells": [
  {
   "cell_type": "code",
   "execution_count": 55,
   "metadata": {},
   "outputs": [],
   "source": [
    "import pandas as pd\n",
    "from sklearn.model_selection import train_test_split\n",
    "from sklearn.ensemble import RandomForestClassifier\n",
    "from sklearn.metrics import accuracy_score, classification_report"
   ]
  },
  {
   "cell_type": "code",
   "execution_count": 56,
   "metadata": {},
   "outputs": [
    {
     "data": {
      "text/html": [
       "<div>\n",
       "<style scoped>\n",
       "    .dataframe tbody tr th:only-of-type {\n",
       "        vertical-align: middle;\n",
       "    }\n",
       "\n",
       "    .dataframe tbody tr th {\n",
       "        vertical-align: top;\n",
       "    }\n",
       "\n",
       "    .dataframe thead th {\n",
       "        text-align: right;\n",
       "    }\n",
       "</style>\n",
       "<table border=\"1\" class=\"dataframe\">\n",
       "  <thead>\n",
       "    <tr style=\"text-align: right;\">\n",
       "      <th></th>\n",
       "      <th>Unnamed: 0</th>\n",
       "      <th>path</th>\n",
       "      <th>contrast_0</th>\n",
       "      <th>dissimilarity_0</th>\n",
       "      <th>homogeneity_0</th>\n",
       "      <th>energy_0</th>\n",
       "      <th>correlation_0</th>\n",
       "      <th>entropy_0</th>\n",
       "      <th>asm_0</th>\n",
       "      <th>contrast_45</th>\n",
       "      <th>...</th>\n",
       "      <th>entropy_95</th>\n",
       "      <th>asm_90</th>\n",
       "      <th>contrast_135</th>\n",
       "      <th>dissimilarity_135</th>\n",
       "      <th>homogeneity_135</th>\n",
       "      <th>energy_135</th>\n",
       "      <th>correlation_135</th>\n",
       "      <th>entropy_135</th>\n",
       "      <th>asm_135</th>\n",
       "      <th>labels</th>\n",
       "    </tr>\n",
       "  </thead>\n",
       "  <tbody>\n",
       "    <tr>\n",
       "      <th>0</th>\n",
       "      <td>0</td>\n",
       "      <td>datasets/ayam\\download.jpg</td>\n",
       "      <td>1952.343750</td>\n",
       "      <td>7.656250</td>\n",
       "      <td>0.970093</td>\n",
       "      <td>0.866311</td>\n",
       "      <td>0.712865</td>\n",
       "      <td>-5.105249e+06</td>\n",
       "      <td>0.000013</td>\n",
       "      <td>3084.0</td>\n",
       "      <td>...</td>\n",
       "      <td>-5.105249e+06</td>\n",
       "      <td>0.000013</td>\n",
       "      <td>3044.0</td>\n",
       "      <td>11.937255</td>\n",
       "      <td>0.953370</td>\n",
       "      <td>0.850427</td>\n",
       "      <td>0.553960</td>\n",
       "      <td>-5.105249e+06</td>\n",
       "      <td>0.000013</td>\n",
       "      <td>ayam</td>\n",
       "    </tr>\n",
       "    <tr>\n",
       "      <th>1</th>\n",
       "      <td>1</td>\n",
       "      <td>datasets/ayam\\egg-white-food-protein-162712.jpeg</td>\n",
       "      <td>2828.906250</td>\n",
       "      <td>11.093750</td>\n",
       "      <td>0.956665</td>\n",
       "      <td>0.816831</td>\n",
       "      <td>0.692669</td>\n",
       "      <td>-7.070763e+06</td>\n",
       "      <td>0.000012</td>\n",
       "      <td>4408.0</td>\n",
       "      <td>...</td>\n",
       "      <td>-7.070763e+06</td>\n",
       "      <td>0.000013</td>\n",
       "      <td>4596.0</td>\n",
       "      <td>18.023529</td>\n",
       "      <td>0.929596</td>\n",
       "      <td>0.792249</td>\n",
       "      <td>0.502481</td>\n",
       "      <td>-7.070763e+06</td>\n",
       "      <td>0.000012</td>\n",
       "      <td>ayam</td>\n",
       "    </tr>\n",
       "    <tr>\n",
       "      <th>2</th>\n",
       "      <td>2</td>\n",
       "      <td>datasets/ayam\\images (1).jpg</td>\n",
       "      <td>2346.796875</td>\n",
       "      <td>9.203125</td>\n",
       "      <td>0.964050</td>\n",
       "      <td>0.822255</td>\n",
       "      <td>0.747541</td>\n",
       "      <td>-7.147066e+06</td>\n",
       "      <td>0.000013</td>\n",
       "      <td>3870.0</td>\n",
       "      <td>...</td>\n",
       "      <td>-7.147066e+06</td>\n",
       "      <td>0.000012</td>\n",
       "      <td>4188.0</td>\n",
       "      <td>16.423529</td>\n",
       "      <td>0.935846</td>\n",
       "      <td>0.796272</td>\n",
       "      <td>0.551083</td>\n",
       "      <td>-7.147066e+06</td>\n",
       "      <td>0.000012</td>\n",
       "      <td>ayam</td>\n",
       "    </tr>\n",
       "    <tr>\n",
       "      <th>3</th>\n",
       "      <td>3</td>\n",
       "      <td>datasets/ayam\\images.jpg</td>\n",
       "      <td>1988.203125</td>\n",
       "      <td>7.796875</td>\n",
       "      <td>0.969543</td>\n",
       "      <td>0.866829</td>\n",
       "      <td>0.704665</td>\n",
       "      <td>-5.051554e+06</td>\n",
       "      <td>0.000013</td>\n",
       "      <td>3256.0</td>\n",
       "      <td>...</td>\n",
       "      <td>-5.051554e+06</td>\n",
       "      <td>0.000013</td>\n",
       "      <td>3220.0</td>\n",
       "      <td>12.627451</td>\n",
       "      <td>0.950674</td>\n",
       "      <td>0.849020</td>\n",
       "      <td>0.523450</td>\n",
       "      <td>-5.051554e+06</td>\n",
       "      <td>0.000013</td>\n",
       "      <td>ayam</td>\n",
       "    </tr>\n",
       "    <tr>\n",
       "      <th>4</th>\n",
       "      <td>4</td>\n",
       "      <td>datasets/ayam\\IMG_20220818_154051.jpg</td>\n",
       "      <td>3882.773438</td>\n",
       "      <td>15.226562</td>\n",
       "      <td>0.940521</td>\n",
       "      <td>0.703014</td>\n",
       "      <td>0.752067</td>\n",
       "      <td>-1.291644e+07</td>\n",
       "      <td>0.000011</td>\n",
       "      <td>8468.0</td>\n",
       "      <td>...</td>\n",
       "      <td>-1.291644e+07</td>\n",
       "      <td>0.000010</td>\n",
       "      <td>8506.0</td>\n",
       "      <td>33.356863</td>\n",
       "      <td>0.869700</td>\n",
       "      <td>0.644671</td>\n",
       "      <td>0.458630</td>\n",
       "      <td>-1.291644e+07</td>\n",
       "      <td>0.000010</td>\n",
       "      <td>ayam</td>\n",
       "    </tr>\n",
       "    <tr>\n",
       "      <th>5</th>\n",
       "      <td>5</td>\n",
       "      <td>datasets/ayam\\IMG_20220818_160129.jpg</td>\n",
       "      <td>2020.078125</td>\n",
       "      <td>7.921875</td>\n",
       "      <td>0.969055</td>\n",
       "      <td>0.826787</td>\n",
       "      <td>0.782924</td>\n",
       "      <td>-7.155544e+06</td>\n",
       "      <td>0.000013</td>\n",
       "      <td>4668.0</td>\n",
       "      <td>...</td>\n",
       "      <td>-7.155544e+06</td>\n",
       "      <td>0.000012</td>\n",
       "      <td>4556.0</td>\n",
       "      <td>17.866667</td>\n",
       "      <td>0.930208</td>\n",
       "      <td>0.791218</td>\n",
       "      <td>0.512167</td>\n",
       "      <td>-7.155544e+06</td>\n",
       "      <td>0.000012</td>\n",
       "      <td>ayam</td>\n",
       "    </tr>\n",
       "  </tbody>\n",
       "</table>\n",
       "<p>6 rows × 31 columns</p>\n",
       "</div>"
      ],
      "text/plain": [
       "   Unnamed: 0                                              path   contrast_0  \\\n",
       "0           0                        datasets/ayam\\download.jpg  1952.343750   \n",
       "1           1  datasets/ayam\\egg-white-food-protein-162712.jpeg  2828.906250   \n",
       "2           2                      datasets/ayam\\images (1).jpg  2346.796875   \n",
       "3           3                          datasets/ayam\\images.jpg  1988.203125   \n",
       "4           4             datasets/ayam\\IMG_20220818_154051.jpg  3882.773438   \n",
       "5           5             datasets/ayam\\IMG_20220818_160129.jpg  2020.078125   \n",
       "\n",
       "   dissimilarity_0  homogeneity_0  energy_0  correlation_0     entropy_0  \\\n",
       "0         7.656250       0.970093  0.866311       0.712865 -5.105249e+06   \n",
       "1        11.093750       0.956665  0.816831       0.692669 -7.070763e+06   \n",
       "2         9.203125       0.964050  0.822255       0.747541 -7.147066e+06   \n",
       "3         7.796875       0.969543  0.866829       0.704665 -5.051554e+06   \n",
       "4        15.226562       0.940521  0.703014       0.752067 -1.291644e+07   \n",
       "5         7.921875       0.969055  0.826787       0.782924 -7.155544e+06   \n",
       "\n",
       "      asm_0  contrast_45  ...    entropy_95    asm_90  contrast_135  \\\n",
       "0  0.000013       3084.0  ... -5.105249e+06  0.000013        3044.0   \n",
       "1  0.000012       4408.0  ... -7.070763e+06  0.000013        4596.0   \n",
       "2  0.000013       3870.0  ... -7.147066e+06  0.000012        4188.0   \n",
       "3  0.000013       3256.0  ... -5.051554e+06  0.000013        3220.0   \n",
       "4  0.000011       8468.0  ... -1.291644e+07  0.000010        8506.0   \n",
       "5  0.000013       4668.0  ... -7.155544e+06  0.000012        4556.0   \n",
       "\n",
       "   dissimilarity_135  homogeneity_135  energy_135  correlation_135  \\\n",
       "0          11.937255         0.953370    0.850427         0.553960   \n",
       "1          18.023529         0.929596    0.792249         0.502481   \n",
       "2          16.423529         0.935846    0.796272         0.551083   \n",
       "3          12.627451         0.950674    0.849020         0.523450   \n",
       "4          33.356863         0.869700    0.644671         0.458630   \n",
       "5          17.866667         0.930208    0.791218         0.512167   \n",
       "\n",
       "    entropy_135   asm_135  labels  \n",
       "0 -5.105249e+06  0.000013    ayam  \n",
       "1 -7.070763e+06  0.000012    ayam  \n",
       "2 -7.147066e+06  0.000012    ayam  \n",
       "3 -5.051554e+06  0.000013    ayam  \n",
       "4 -1.291644e+07  0.000010    ayam  \n",
       "5 -7.155544e+06  0.000012    ayam  \n",
       "\n",
       "[6 rows x 31 columns]"
      ]
     },
     "execution_count": 56,
     "metadata": {},
     "output_type": "execute_result"
    }
   ],
   "source": [
    "data = pd.read_csv('glcm_result.csv')\n",
    "data.head(6)"
   ]
  },
  {
   "attachments": {},
   "cell_type": "markdown",
   "metadata": {},
   "source": [
    "kode di atas merupakan kode yang digunakan untuk membaca file csv dengan menggunakan liblary pandas. file tersebut dikonversi menjadi objek dataframe.\n",
    "dan selanjutnya menampilkan 6 baris pertama dari dataframe 'data'."
   ]
  },
  {
   "cell_type": "code",
   "execution_count": 57,
   "metadata": {},
   "outputs": [],
   "source": [
    "y = data['labels']\n",
    "x = data.drop(['path', 'labels', 'Unnamed: 0'], axis=1)"
   ]
  },
  {
   "attachments": {},
   "cell_type": "markdown",
   "metadata": {},
   "source": [
    "kode di atas merupakan pemilihan 'labels' dari dataframe 'data' yang disimpan ke dalam variabel y. dan selanjutnya data frame baru dengan variabel x dibuat dengan menghapus kolom 'path' dan 'labels' menggunakan fungsi drop dengan parameter kolom yang akan dihapus dan 'axis=1' yang berarti kita menghapus kolom."
   ]
  },
  {
   "cell_type": "code",
   "execution_count": 58,
   "metadata": {},
   "outputs": [
    {
     "data": {
      "text/plain": [
       "Unnamed: 0           False\n",
       "path                 False\n",
       "contrast_0           False\n",
       "dissimilarity_0      False\n",
       "homogeneity_0        False\n",
       "energy_0             False\n",
       "correlation_0        False\n",
       "entropy_0            False\n",
       "asm_0                False\n",
       "contrast_45          False\n",
       "dissimilarity_45     False\n",
       "homogeneity_45       False\n",
       "energy_45            False\n",
       "correlation_45       False\n",
       "entropy_45           False\n",
       "asm_45               False\n",
       "contrast_90          False\n",
       "dissimilarity_90     False\n",
       "homogeneity_90       False\n",
       "energy_90            False\n",
       "correlation_90       False\n",
       "entropy_95           False\n",
       "asm_90               False\n",
       "contrast_135         False\n",
       "dissimilarity_135    False\n",
       "homogeneity_135      False\n",
       "energy_135           False\n",
       "correlation_135      False\n",
       "entropy_135          False\n",
       "asm_135              False\n",
       "labels               False\n",
       "dtype: bool"
      ]
     },
     "execution_count": 58,
     "metadata": {},
     "output_type": "execute_result"
    }
   ],
   "source": [
    "data.isnull().any()"
   ]
  },
  {
   "attachments": {},
   "cell_type": "markdown",
   "metadata": {},
   "source": [
    "kode di atas digunakan untuk melakukan pengecekan terhadap dataframe apakah terdapat nilai kosong pada dataframe. jika sel tersebut bernilai null maka akan diisi dengan nilai true dan False jika sel tersebut memiliki nilai yang valid.\n",
    "'any()'adalah metode yang digunakan pada DataFrame untuk mengecek apakah ada setidaknya satu nilai True pada setiap kolom. Jika ada nilai True dalam suatu kolom, maka 'any()' akan mengembalikan True untuk kolom tersebut, dan jika semua nilai dalam kolom adalah False, maka 'any()' akan mengembalikan False untuk kolom tersebut."
   ]
  },
  {
   "cell_type": "code",
   "execution_count": 59,
   "metadata": {},
   "outputs": [
    {
     "data": {
      "text/plain": [
       "Unnamed: 0           False\n",
       "path                 False\n",
       "contrast_0           False\n",
       "dissimilarity_0      False\n",
       "homogeneity_0        False\n",
       "energy_0             False\n",
       "correlation_0        False\n",
       "entropy_0            False\n",
       "asm_0                False\n",
       "contrast_45          False\n",
       "dissimilarity_45     False\n",
       "homogeneity_45       False\n",
       "energy_45            False\n",
       "correlation_45       False\n",
       "entropy_45           False\n",
       "asm_45               False\n",
       "contrast_90          False\n",
       "dissimilarity_90     False\n",
       "homogeneity_90       False\n",
       "energy_90            False\n",
       "correlation_90       False\n",
       "entropy_95           False\n",
       "asm_90               False\n",
       "contrast_135         False\n",
       "dissimilarity_135    False\n",
       "homogeneity_135      False\n",
       "energy_135           False\n",
       "correlation_135      False\n",
       "entropy_135          False\n",
       "asm_135              False\n",
       "labels               False\n",
       "dtype: bool"
      ]
     },
     "execution_count": 59,
     "metadata": {},
     "output_type": "execute_result"
    }
   ],
   "source": [
    "data = data.fillna(0)\n",
    "data.isnull().any()"
   ]
  },
  {
   "attachments": {},
   "cell_type": "markdown",
   "metadata": {},
   "source": [
    "kode di atas digunakan untuk mengelola data yang kosong. fungsi 'data.fillna(0)' digunakan untuk menggati semua data yang kosong dalam dataframe menjadi nilai 0.\n",
    "selanjutan dilakukan lagi pemerikasaan apakah masih ada data yang kosong pada dataframe."
   ]
  },
  {
   "cell_type": "code",
   "execution_count": 60,
   "metadata": {},
   "outputs": [],
   "source": [
    "rf_model = RandomForestClassifier()\n",
    "X_train, X_test, y_train, y_test = train_test_split(x, y, test_size=0.2, random_state=42)"
   ]
  },
  {
   "attachments": {},
   "cell_type": "markdown",
   "metadata": {},
   "source": [
    "kode di atas merupakan penginisialisasian objek model klasifikasi random forest dengan menggunakan parameter default. yang berarti berarti model akan dibuat dengan pengaturan default yang telah ditentukan untuk RandomForestClassifier.\n",
    "selanjutnya merupakan pembagian data menjadi data test ata uji dan train atau pelatihan. data dibagi menjadi 2 bagian berdasarkan variabel 'x' fitur dam 'y' labels. 0.2 atau 20% data akan dialokasikan  untuk pengujian dan sisa datanya 80% akan digunakan untuk pelatihan. Parameter 'random_state=42' digunakan untuk mengatur biji acak (random seed) sehingga pembagian data menjadi set pelatihan dan pengujian dapat direproduksi dengan cara yang sama setiap kali kode tersebut dijalankan.\n",
    "\n",
    "Setelah membagi data, variabel 'X_train' akan berisi set fitur pelatihan, 'y_train' akan berisi set label pelatihan, 'X_test' akan berisi set fitur pengujian, dan 'y_test' akan berisi set label pengujian. Variabel ini akan digunakan untuk melatih dan menguji model klasifikasi Random Forest yang telah diinisialisasi sebelumnya 'rf_model'."
   ]
  },
  {
   "cell_type": "code",
   "execution_count": 61,
   "metadata": {},
   "outputs": [],
   "source": [
    "rf_model.fit(X_train, y_train)\n",
    "rf_pred= rf_model.predict(X_test)"
   ]
  },
  {
   "attachments": {},
   "cell_type": "markdown",
   "metadata": {},
   "source": [
    "kode di atas merupakan langkah pelatihan (fitting) model Random Forest. Fungsi 'fit()' digunakan untuk melatih model pada set pelatihan. Variabel 'X_train 'berisi fitur-fitur pelatihan, sedangkan 'y_train' berisi label-label pelatihan. Dengan memanggil .'fit(X_train, y_train)' pada objek model rf_model, model Random Forest akan belajar dari fitur-fitur dan label-label yang telah diberikan.\n",
    "\n",
    "selanjutnya adalah langkah predikisi menggunakan model random forest yang dilatih. Fungsi 'predict()' digunakan untuk melakukan prediksi pada set pengujian. Variabel 'X_test' berisi fitur-fitur pengujian yang ingin kita lakukan prediksi. Hasil prediksi akan disimpan dalam variabel 'rf_pred'.Hasil prediksi akan disimpan dalam variabel rf_pred untuk digunakan dalam evaluasi kinerja model atau keperluan lainnya."
   ]
  },
  {
   "cell_type": "code",
   "execution_count": 62,
   "metadata": {},
   "outputs": [],
   "source": [
    "rf_accuracy = accuracy_score(y_test, rf_pred)\n",
    "rf_report = classification_report(y_test, rf_pred)"
   ]
  },
  {
   "attachments": {},
   "cell_type": "markdown",
   "metadata": {},
   "source": [
    "kode di atas digunakan untuk menghitung akurasi model klasifikasi Random Forest dengan membandingkan label aktual 'y_test' dari set pengujian dengan label prediksi 'rf_pred'. Fungsi 'accuracy_score()' dari scikit-learn digunakan untuk menghitung akurasi dengan membandingkan label prediksi dengan label aktual. Nilai akurasi akan disimpan dalam variabel 'rf_accuracy' untuk digunakan atau dicetak nanti.\n",
    "\n",
    "selanjutnya variabel 'rf_report' berfungsi untuk menghasilkan laporan klasifikasi yang terperinci untuk model klasifikasi Random Forest pada set pengujian. Fungsi 'classification_report()' dari scikit-learn digunakan untuk menghasilkan laporan yang mencakup beberapa metrik evaluasi klasifikasi seperti presisi (precision), recall, nilai F1 (F1-score), dan dukungan (support) untuk setiap kelas. Laporan ini membantu dalam mengevaluasi kinerja model secara komprehensif. Laporan klasifikasi akan disimpan dalam variabel rf_report untuk digunakan atau dicetak nanti.\n",
    "\n",
    "Dengan menggunakan kode ini, kita dapat mengukur akurasi model klasifikasi Random Forest dengan membandingkan label prediksi dan label aktual menggunakan accuracy_score(). Selain itu, kita juga dapat melihat laporan klasifikasi yang memberikan informasi lebih rinci tentang performa model pada set pengujian menggunakan classification_report()."
   ]
  },
  {
   "cell_type": "code",
   "execution_count": 63,
   "metadata": {},
   "outputs": [
    {
     "name": "stdout",
     "output_type": "stream",
     "text": [
      "Random Forest Accuracy: 78.33333333333333 %\n",
      "Random Forest Classification Report:\n",
      "               precision    recall  f1-score   support\n",
      "\n",
      "        ayam       0.83      0.86      0.84        22\n",
      "      kalkun       0.63      0.75      0.69        16\n",
      "       puyuh       0.89      0.73      0.80        22\n",
      "\n",
      "    accuracy                           0.78        60\n",
      "   macro avg       0.78      0.78      0.78        60\n",
      "weighted avg       0.80      0.78      0.79        60\n",
      "\n"
     ]
    }
   ],
   "source": [
    "print(\"Random Forest Accuracy:\", rf_accuracy * 100, \"%\")\n",
    "print(\"Random Forest Classification Report:\\n\", rf_report)"
   ]
  },
  {
   "attachments": {},
   "cell_type": "markdown",
   "metadata": {},
   "source": [
    "kode di atas digunakan untuk mencetak nilai accuracy darim model klasifikasi random forest. nilai akurasi uang di simpan dalam variabel rf_accuracy dikalikan dengan 100 untuk mengubahnya menjadi persentase dan kemudian dicetak. \n",
    "\n",
    "dan nilai laporan yang disimpan dalam variabel rf_report akan dicetak dan memberikan laporan  informasi rinci tentang metrik evaluasi klasifikasi seperti presisi, recall, nilai F1, dan dukungan untuk setiap kelas."
   ]
  },
  {
   "attachments": {},
   "cell_type": "markdown",
   "metadata": {},
   "source": [
    "# Penjelasan Output\n",
    "Random Forest Accuracy: 78.33333333333333%: Menunjukkan bahwa akurasi model klasifikasi Random Forest adalah sebesar 78.33%. Akurasi mengukur sejauh mana model dapat melakukan prediksi dengan benar pada set pengujian. Dalam kasus ini, model mencapai tingkat akurasi sebesar 78.33%.\n",
    "\n",
    "Precision: Menunjukkan presisi (precision) dari model untuk setiap kelas. Presisi adalah ukuran dari sejauh mana prediksi positif yang dilakukan oleh model benar. Semakin tinggi nilai presisi, semakin sedikit prediksi palsu positif yang dibuat oleh model.\n",
    "\n",
    "Recall: Menunjukkan recall (recall) dari model untuk setiap kelas. Recall adalah ukuran dari sejauh mana model mampu menemukan kembali (mengingat) instans positif yang sebenarnya. Semakin tinggi nilai recall, semakin sedikit instans positif yang terlewatkan oleh model.\n",
    "\n",
    "F1-Score: Menunjukkan nilai F1-Score untuk setiap kelas. F1-Score adalah ukuran rata-rata harmonik antara presisi dan recall. F1-Score memberikan gambaran keseluruhan tentang keseimbangan antara presisi dan recall.\n",
    "\n",
    "Support: Menunjukkan jumlah sampel yang ada dalam set pengujian untuk setiap kelas.\n",
    "\n",
    "Informasi di bawah laporan klasifikasi adalah nilai rata-rata dari presisi, recall, dan F1-Score untuk semua kelas, yaitu \"macro avg\" dan \"weighted avg\". \"Macro avg\" mengambil rata-rata dari metrik evaluasi kelas tanpa memperhatikan ketidakseimbangan jumlah sampel di setiap kelas, sedangkan \"weighted avg\" memberikan bobot rata-rata berdasarkan jumlah sampel di setiap kelas."
   ]
  }
 ],
 "metadata": {
  "kernelspec": {
   "display_name": "Python 3",
   "language": "python",
   "name": "python3"
  },
  "language_info": {
   "codemirror_mode": {
    "name": "ipython",
    "version": 3
   },
   "file_extension": ".py",
   "mimetype": "text/x-python",
   "name": "python",
   "nbconvert_exporter": "python",
   "pygments_lexer": "ipython3",
   "version": "3.11.2"
  },
  "orig_nbformat": 4
 },
 "nbformat": 4,
 "nbformat_minor": 2
}
